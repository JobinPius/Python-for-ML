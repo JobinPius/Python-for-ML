{
 "cells": [
  {
   "cell_type": "markdown",
   "id": "f81160de-7395-48a6-be21-f09103b48dfb",
   "metadata": {},
   "source": [
    "# BASICS OF `PYTHON` PROGRAMMING\n",
    "\n",
    "In this notebook we will explain basic `python` for machine learning"
   ]
  },
  {
   "cell_type": "markdown",
   "id": "588b8b66-5726-4350-9f89-3d15776e55a9",
   "metadata": {},
   "source": [
    "## DERIVED DATA TYPES IN `PYTHON`"
   ]
  },
  {
   "cell_type": "markdown",
   "id": "82465920-a9f4-487f-91d1-01f4eec34132",
   "metadata": {},
   "source": [
    ">**NOTE:** IN PYTHON `INT`,`FLOAT`,`STR`..ARE ATOMIC DATA TYPES AND NO DECLARATION IS REQUIRED."
   ]
  },
  {
   "cell_type": "markdown",
   "id": "2f82e136-468c-47e2-809d-ab026180531f",
   "metadata": {},
   "source": [
    "## List"
   ]
  },
  {
   "cell_type": "code",
   "execution_count": 1,
   "id": "815d903a-8d4d-4d41-b600-df22ba7288c4",
   "metadata": {},
   "outputs": [],
   "source": [
    "my_list=[1,2,3]"
   ]
  },
  {
   "cell_type": "code",
   "execution_count": 2,
   "id": "b4381296-3b04-467f-8a27-9cde540d9c83",
   "metadata": {},
   "outputs": [
    {
     "data": {
      "text/plain": [
       "[1, 2, 3]"
      ]
     },
     "execution_count": 2,
     "metadata": {},
     "output_type": "execute_result"
    }
   ],
   "source": [
    "my_list"
   ]
  },
  {
   "cell_type": "code",
   "execution_count": 3,
   "id": "5c2e8598-d254-43d5-880f-7ebb343ccfb2",
   "metadata": {},
   "outputs": [],
   "source": [
    "my_list=[1,'a',2,'b',3,'c']"
   ]
  },
  {
   "cell_type": "code",
   "execution_count": 4,
   "id": "8d5fb286-bfcb-4e63-bee3-677eccbbb88b",
   "metadata": {},
   "outputs": [
    {
     "data": {
      "text/plain": [
       "[1, 'a', 2, 'b', 3, 'c']"
      ]
     },
     "execution_count": 4,
     "metadata": {},
     "output_type": "execute_result"
    }
   ],
   "source": [
    "my_list"
   ]
  },
  {
   "cell_type": "code",
   "execution_count": 5,
   "id": "59ec7038-dbd0-4dda-adcf-b3901481406d",
   "metadata": {},
   "outputs": [
    {
     "data": {
      "text/plain": [
       "1"
      ]
     },
     "execution_count": 5,
     "metadata": {},
     "output_type": "execute_result"
    }
   ],
   "source": [
    "my_list[0]"
   ]
  },
  {
   "cell_type": "code",
   "execution_count": 6,
   "id": "5e1bb8f6-f6a5-4a26-a9bc-2d914bb0e0e7",
   "metadata": {},
   "outputs": [],
   "source": [
    "my_list=[1,2,[100,200]]"
   ]
  },
  {
   "cell_type": "code",
   "execution_count": 7,
   "id": "0c323214-c27a-406a-801e-2705741a4122",
   "metadata": {},
   "outputs": [
    {
     "data": {
      "text/plain": [
       "200"
      ]
     },
     "execution_count": 7,
     "metadata": {},
     "output_type": "execute_result"
    }
   ],
   "source": [
    "my_list[2][1]"
   ]
  },
  {
   "cell_type": "code",
   "execution_count": 9,
   "id": "c8f6c97c-6f40-4af1-9db0-55797e10b703",
   "metadata": {},
   "outputs": [],
   "source": [
    "my_list[0]=\"new\""
   ]
  },
  {
   "cell_type": "code",
   "execution_count": 10,
   "id": "161501c6-c570-4212-ba94-534b26a2a0c6",
   "metadata": {},
   "outputs": [
    {
     "data": {
      "text/plain": [
       "['new', 2, [100, 200]]"
      ]
     },
     "execution_count": 10,
     "metadata": {},
     "output_type": "execute_result"
    }
   ],
   "source": [
    "my_list"
   ]
  },
  {
   "cell_type": "code",
   "execution_count": 11,
   "id": "753b3654-155b-4bb3-8ad0-3f3c6231de74",
   "metadata": {},
   "outputs": [],
   "source": [
    "my_list.append(\"e\")"
   ]
  },
  {
   "cell_type": "code",
   "execution_count": 12,
   "id": "436c68f5-81e2-4cac-8092-94e070cc9c8f",
   "metadata": {},
   "outputs": [
    {
     "data": {
      "text/plain": [
       "['new', 2, [100, 200], 'e']"
      ]
     },
     "execution_count": 12,
     "metadata": {},
     "output_type": "execute_result"
    }
   ],
   "source": [
    "my_list"
   ]
  },
  {
   "cell_type": "markdown",
   "id": "fe3b7d51-ad70-4409-aeb6-ba1acf15849b",
   "metadata": {},
   "source": [
    "## Tuple"
   ]
  },
  {
   "cell_type": "code",
   "execution_count": 13,
   "id": "6fef52b0-fee8-4259-9f06-564b0e36972f",
   "metadata": {},
   "outputs": [],
   "source": [
    "t=(1,2,3)"
   ]
  },
  {
   "cell_type": "code",
   "execution_count": 14,
   "id": "9f48624a-3006-41b3-87a8-8ccef09014ad",
   "metadata": {},
   "outputs": [
    {
     "data": {
      "text/plain": [
       "(1, 2, 3)"
      ]
     },
     "execution_count": 14,
     "metadata": {},
     "output_type": "execute_result"
    }
   ],
   "source": [
    "t"
   ]
  },
  {
   "cell_type": "markdown",
   "id": "37227317-d743-4b32-914b-c77c7bece0da",
   "metadata": {},
   "source": [
    "# Dictionary"
   ]
  },
  {
   "cell_type": "code",
   "execution_count": 15,
   "id": "b1164d11-ff20-4d64-a4a1-16bc212f9d8b",
   "metadata": {},
   "outputs": [],
   "source": [
    "d={'Name':'jobin','age':20}"
   ]
  },
  {
   "cell_type": "code",
   "execution_count": 16,
   "id": "c9a63a53-00e5-4891-b720-cd498b7cd6a3",
   "metadata": {},
   "outputs": [
    {
     "data": {
      "text/plain": [
       "{'Name': 'jobin', 'age': 20}"
      ]
     },
     "execution_count": 16,
     "metadata": {},
     "output_type": "execute_result"
    }
   ],
   "source": [
    "d"
   ]
  },
  {
   "cell_type": "code",
   "execution_count": 17,
   "id": "1b63d108-50ef-4204-ada2-d8ecec4004f1",
   "metadata": {},
   "outputs": [
    {
     "data": {
      "text/plain": [
       "20"
      ]
     },
     "execution_count": 17,
     "metadata": {},
     "output_type": "execute_result"
    }
   ],
   "source": [
    "d['age']"
   ]
  },
  {
   "cell_type": "code",
   "execution_count": 19,
   "id": "a33e7ef9-c221-40ff-ad90-e1686bd67e65",
   "metadata": {},
   "outputs": [
    {
     "data": {
      "text/plain": [
       "'jobin'"
      ]
     },
     "execution_count": 19,
     "metadata": {},
     "output_type": "execute_result"
    }
   ],
   "source": [
    "d['Name']"
   ]
  },
  {
   "cell_type": "code",
   "execution_count": 20,
   "id": "8c1577dc-250a-4962-abea-f9da0e968bb5",
   "metadata": {},
   "outputs": [
    {
     "data": {
      "text/plain": [
       "{1, 2, 3, 4, 5, 6, 7}"
      ]
     },
     "execution_count": 20,
     "metadata": {},
     "output_type": "execute_result"
    }
   ],
   "source": [
    "{1,1,2,4,3,3,4,5,7,6,6}"
   ]
  },
  {
   "cell_type": "code",
   "execution_count": 21,
   "id": "b2348dbd-7356-4642-8ca8-b9315d36cf20",
   "metadata": {},
   "outputs": [],
   "source": [
    "def times2(var):\n",
    "    return var*2"
   ]
  },
  {
   "cell_type": "code",
   "execution_count": 22,
   "id": "a743b2dd-6f78-48a7-a5ca-32ab916f8a9e",
   "metadata": {},
   "outputs": [
    {
     "data": {
      "text/plain": [
       "4"
      ]
     },
     "execution_count": 22,
     "metadata": {},
     "output_type": "execute_result"
    }
   ],
   "source": [
    "times2(2)"
   ]
  },
  {
   "cell_type": "markdown",
   "id": "e9e8a314-30a3-4abd-85a5-da408afc6aeb",
   "metadata": {},
   "source": [
    "# Lambda arguments:expression"
   ]
  },
  {
   "cell_type": "code",
   "execution_count": 23,
   "id": "1026eec9-3b65-4f94-8420-91fcf1256139",
   "metadata": {},
   "outputs": [
    {
     "name": "stdout",
     "output_type": "stream",
     "text": [
      "4\n"
     ]
    }
   ],
   "source": [
    "times2=lambda var:var*2\n",
    "print(times2(2))"
   ]
  },
  {
   "cell_type": "code",
   "execution_count": 24,
   "id": "49e76b7e-0b9e-405d-9faa-e96096ef94d9",
   "metadata": {},
   "outputs": [],
   "source": [
    "x=[1,2,3,4]"
   ]
  },
  {
   "cell_type": "code",
   "execution_count": 25,
   "id": "670b7557-86b9-4206-a6bd-232ec1c11bc1",
   "metadata": {},
   "outputs": [
    {
     "name": "stdout",
     "output_type": "stream",
     "text": [
      "[1, 4, 9, 16]\n"
     ]
    }
   ],
   "source": [
    "out=[]\n",
    "for item in x:\n",
    "    out.append(item**2)\n",
    "print(out)"
   ]
  },
  {
   "cell_type": "code",
   "execution_count": 26,
   "id": "278ce4c0-549d-4371-b198-c777cbc76f94",
   "metadata": {},
   "outputs": [
    {
     "data": {
      "text/plain": [
       "[1, 4, 9, 16]"
      ]
     },
     "execution_count": 26,
     "metadata": {},
     "output_type": "execute_result"
    }
   ],
   "source": [
    "[item**2 for item in x]"
   ]
  },
  {
   "cell_type": "code",
   "execution_count": 32,
   "id": "ac852436-9963-4e78-9f65-8af11c79f441",
   "metadata": {},
   "outputs": [
    {
     "name": "stdout",
     "output_type": "stream",
     "text": [
      "my name is:2,my no is:christo\n"
     ]
    }
   ],
   "source": [
    "print(\"my name is:{1},my no is:{0}\".format(\"christo\",2))"
   ]
  },
  {
   "cell_type": "code",
   "execution_count": null,
   "id": "04c41437-5ec2-4a06-91e6-e4375e445c02",
   "metadata": {},
   "outputs": [],
   "source": []
  }
 ],
 "metadata": {
  "kernelspec": {
   "display_name": "Python 3 (Intel® oneAPI 2023.2)",
   "language": "python",
   "name": "c009-intel_distribution_of_python_3_oneapi-beta05-python"
  },
  "language_info": {
   "codemirror_mode": {
    "name": "ipython",
    "version": 3
   },
   "file_extension": ".py",
   "mimetype": "text/x-python",
   "name": "python",
   "nbconvert_exporter": "python",
   "pygments_lexer": "ipython3",
   "version": "3.9.16"
  }
 },
 "nbformat": 4,
 "nbformat_minor": 5
}
